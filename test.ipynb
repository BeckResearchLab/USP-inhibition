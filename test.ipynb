{
 "cells": [
  {
   "cell_type": "code",
   "execution_count": 1,
   "metadata": {
    "collapsed": true
   },
   "outputs": [],
   "source": [
    "import numpy as np\n",
    "from  sklearn.ensemble import RandomForestRegressor\n",
    "import sklearn\n",
    "import pandas as pd\n",
    "import utils"
   ]
  },
  {
   "cell_type": "code",
   "execution_count": 2,
   "metadata": {
    "collapsed": true
   },
   "outputs": [],
   "source": [
    "def choose_features(x, y):\n",
    "    \"\"\"\n",
    "    Selecting the features of high importance to reduce feature space.\n",
    "    :param x: Dataframe of features\n",
    "    :param y: Dataframe of target property\n",
    "    :return desired x: Dataframe of short-listed features\n",
    "    \"\"\"\n",
    "\n",
    "    # Random forest feature importance\n",
    "    x = np.array(x)\n",
    "    y = np.array(y)\n",
    "\n",
    "    clf = RandomForestRegressor()\n",
    "    sfm = sklearn.feature_selection.SelectFromModel(clf, threshold=0.15)\n",
    "    sfm.fit(x, y)\n",
    "    desired_x = sfm.transform(x)\n",
    "\n",
    "    return desired_x"
   ]
  },
  {
   "cell_type": "code",
   "execution_count": 3,
   "metadata": {
    "collapsed": true
   },
   "outputs": [],
   "source": [
    "df_x = pd.read_csv('data/df_x_preprocessing.csv')\n",
    "df_y = pd.read_csv('data/df_y_preprocessing.csv')"
   ]
  },
  {
   "cell_type": "code",
   "execution_count": 4,
   "metadata": {
    "collapsed": false
   },
   "outputs": [
    {
     "name": "stdout",
     "output_type": "stream",
     "text": [
      "Checked dataframe for NaN and infinite values\n"
     ]
    }
   ],
   "source": [
    "df_x = utils.remove_nan_infinite(df_x)\n",
    "df_y = utils.remove_nan_infinite(df_y)\n",
    "print(\"Checked dataframe for NaN and infinite values\")"
   ]
  },
  {
   "cell_type": "code",
   "execution_count": null,
   "metadata": {
    "collapsed": false
   },
   "outputs": [
    {
     "name": "stdout",
     "output_type": "stream",
     "text": [
      "Transforming dataframe using mean and variance\n",
      "Transformed dataframe using mean and variance\n"
     ]
    }
   ],
   "source": [
    "# Transform all column values to mean 0 and unit variance\n",
    "print(\"Transforming dataframe using mean and variance\")\n",
    "df_x = sklearn.preprocessing.scale(df_x)\n",
    "df_y = sklearn.preprocessing.scale(df_y)\n",
    "print(\"Transformed dataframe using mean and variance\")"
   ]
  },
  {
   "cell_type": "code",
   "execution_count": null,
   "metadata": {
    "collapsed": false
   },
   "outputs": [],
   "source": [
    "df_x = utils.choose_features(df_x, df_y)"
   ]
  },
  {
   "cell_type": "code",
   "execution_count": null,
   "metadata": {
    "collapsed": true
   },
   "outputs": [],
   "source": []
  }
 ],
 "metadata": {
  "kernelspec": {
   "display_name": "Python 2",
   "language": "python",
   "name": "python2"
  },
  "language_info": {
   "codemirror_mode": {
    "name": "ipython",
    "version": 2
   },
   "file_extension": ".py",
   "mimetype": "text/x-python",
   "name": "python",
   "nbconvert_exporter": "python",
   "pygments_lexer": "ipython2",
   "version": "2.7.11"
  }
 },
 "nbformat": 4,
 "nbformat_minor": 0
}
