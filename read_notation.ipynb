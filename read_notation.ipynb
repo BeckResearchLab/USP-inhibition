{
 "cells": [
  {
   "cell_type": "code",
   "execution_count": 1,
   "metadata": {
    "collapsed": false
   },
   "outputs": [],
   "source": [
    "import pandas as pd"
   ]
  },
  {
   "cell_type": "code",
   "execution_count": 2,
   "metadata": {
    "collapsed": false
   },
   "outputs": [
    {
     "name": "stdout",
     "output_type": "stream",
     "text": [
      "389561\n"
     ]
    }
   ],
   "source": [
    "# To find the number of compounds tested\n",
    "with open('chemical_notation_data/compounds_inchi.txt', 'r') as f:\n",
    "    data = f.readlines()\n",
    "    i = 1\n",
    "    for line in data:\n",
    "        words = line.split()\n",
    "        i += 1\n",
    "    print i \n",
    "\n",
    "# Expected: 389561"
   ]
  },
  {
   "cell_type": "code",
   "execution_count": 3,
   "metadata": {
    "collapsed": false
   },
   "outputs": [],
   "source": [
    "def create_dict(filename, mol):\n",
    "    \"\"\"\n",
    "    Returns dictionary of sample ID and molecular notation\n",
    "    \n",
    "    Inputs: filename, mol\n",
    "    filename - path to file containing molecular notation indexed by sample ID\n",
    "    mol - type of molecular notation\n",
    "    Input types: str, str\n",
    "    \n",
    "    Outputs: dictionary of molecular notation indexed by sample ID\n",
    "    Output types: Python dictionary\n",
    "    \"\"\"\n",
    "    with open(filename, 'r') as f:\n",
    "        # Reads the file line by line\n",
    "        data = f.readlines()\n",
    "        # Null dictionary\n",
    "        df = (dict([]))\n",
    "        for line in data[:100]:\n",
    "            # Splits the line into it's key and molecular string  \n",
    "            words = line.split()\n",
    "            if mol == 'smiles':\n",
    "                z = (dict([(int(words[0]), [words[1]])]))\n",
    "            elif mol == 'inchi':\n",
    "                # This removes the 'InChI=' prefix to the InChI string\n",
    "                z = (dict([(int(words[0]), [words[1][6:]])]))\n",
    "            else:\n",
    "                print 'Invalid molecular notation. Choose from smiles or inchi.'\n",
    "            # Appending dictionary            \n",
    "            df.update(z)\n",
    "        return df"
   ]
  },
  {
   "cell_type": "code",
   "execution_count": 4,
   "metadata": {
    "collapsed": false
   },
   "outputs": [],
   "source": [
    "# The SMILES and InChI logs of the same compound have identical keys \n",
    "# Creating and joining the SMILES and InChI dictionaries along the same index\n",
    "\n",
    "dict_compounds = {key: value + create_dict('chemical_notation_data/compounds_inchi.txt', 'inchi')[key] for key, value in \n",
    "                create_dict('chemical_notation_data/compounds_smiles.txt','smiles').iteritems()}\n",
    "dict_compounds_active = {key: value + create_dict('chemical_notation_data/compounds_active_inchi.txt', 'inchi')[key] for key, value in \n",
    "                create_dict('chemical_notation_data/compounds_active_smiles.txt', 'smiles').iteritems()}"
   ]
  },
  {
   "cell_type": "code",
   "execution_count": 5,
   "metadata": {
    "collapsed": true
   },
   "outputs": [],
   "source": [
    "def create_dataframe(filename, mol):\n",
    "    \"\"\"\n",
    "    Returns Pandas dataframe of sample ID and molecular notation\n",
    "    \n",
    "    Inputs: filename, mol\n",
    "    filename - path to file containing molecular notation indexed by sample ID\n",
    "    mol - type of molecular notation\n",
    "    Input types: str, str\n",
    "    \n",
    "    Outputs: dataframe of molecular notation indexed by sample ID\n",
    "    Output types: Pandas DataFrame\n",
    "    \"\"\"\n",
    "    with open(filename, 'r') as f:\n",
    "        # Reads the file line by line\n",
    "        data = f.readlines()\n",
    "        # Null dataframe\n",
    "        df = []\n",
    "        for line in data[:]:\n",
    "            # Splits the line into it's key and molecular string  \n",
    "            words = line.split()\n",
    "            if mol == 'smiles':\n",
    "                z = [int(words[0]), words[1]]\n",
    "            elif mol == 'inchi':\n",
    "                # This removes the 'InChI=' prefix to the InChI string\n",
    "                z = [int(words[0]), words[1][6:]]\n",
    "            else:\n",
    "                print 'Invalid molecular notation. Choose from smiles or inchi.'\n",
    "            # Appending dictionary            \n",
    "            df.append(z)\n",
    "        df = pd.DataFrame(df)\n",
    "        df.columns = ['ID', mol.upper()]\n",
    "        return df"
   ]
  },
  {
   "cell_type": "code",
   "execution_count": 6,
   "metadata": {
    "collapsed": false
   },
   "outputs": [],
   "source": [
    "# The SMILES and InChI logs of the same material have identical indices \n",
    "# Creating and joining the SMILES and InChI dataframes along the same index\n",
    "\n",
    "df_compounds_smiles = create_dataframe('chemical_notation_data/compounds_smiles.txt', 'smiles')\n",
    "df_compounds_inchi = create_dataframe('chemical_notation_data/compounds_inchi.txt','inchi')\n",
    "\n",
    "df_compounds = pd.concat([df_compounds_smiles, df_compounds_inchi['INCHI']], axis=1).rename(columns = {'ID':'CID'})"
   ]
  },
  {
   "cell_type": "code",
   "execution_count": 7,
   "metadata": {
    "collapsed": false
   },
   "outputs": [
    {
     "name": "stderr",
     "output_type": "stream",
     "text": [
      "C:\\Users\\pearl\\Anaconda2\\lib\\site-packages\\IPython\\core\\interactiveshell.py:2902: DtypeWarning: Columns (0,8,9,10,11,13,14,15,16,17,18,20,21,22,23,24) have mixed types. Specify dtype option on import or set low_memory=False.\n",
      "  interactivity=interactivity, compiler=compiler, result=result)\n"
     ]
    }
   ],
   "source": [
    "activity = pd.read_csv('activity_data/AID_743255_datatable.csv')\n",
    "for i in range(5):\n",
    "    activity = activity.drop(i, axis=0)\n",
    "activity = activity.drop(['PUBCHEM_ACTIVITY_URL', 'PUBCHEM_SID', 'PUBCHEM_ASSAYDATA_COMMENT', \n",
    "                          'Potency', 'Efficacy','Analysis Comment', 'Curve_Description',\n",
    "                          'Fit_LogAC50','Fit_HillSlope','Fit_R2','Fit_InfiniteActivity',\n",
    "                          'Fit_ZeroActivity','Fit_CurveClass', 'Excluded_Points', 'Compound QC'], axis=1)\n",
    "activity.reset_index(['PUBCHEM_RESULT_TAG'], drop=True).to_csv('activity_data/cleaned_data.csv')"
   ]
  },
  {
   "cell_type": "code",
   "execution_count": 8,
   "metadata": {
    "collapsed": false
   },
   "outputs": [
    {
     "data": {
      "text/plain": [
       "(392718, 11)"
      ]
     },
     "execution_count": 8,
     "metadata": {},
     "output_type": "execute_result"
    }
   ],
   "source": [
    "activity.shape"
   ]
  },
  {
   "cell_type": "code",
   "execution_count": 9,
   "metadata": {
    "collapsed": false
   },
   "outputs": [
    {
     "data": {
      "text/plain": [
       "(100, 3)"
      ]
     },
     "execution_count": 9,
     "metadata": {},
     "output_type": "execute_result"
    }
   ],
   "source": [
    "print df_compounds.shape"
   ]
  },
  {
   "cell_type": "code",
   "execution_count": null,
   "metadata": {
    "collapsed": true
   },
   "outputs": [],
   "source": []
  }
 ],
 "metadata": {
  "kernelspec": {
   "display_name": "Python 2",
   "language": "python",
   "name": "python2"
  },
  "language_info": {
   "codemirror_mode": {
    "name": "ipython",
    "version": 2
   },
   "file_extension": ".py",
   "mimetype": "text/x-python",
   "name": "python",
   "nbconvert_exporter": "python",
   "pygments_lexer": "ipython2",
   "version": "2.7.11"
  }
 },
 "nbformat": 4,
 "nbformat_minor": 0
}
