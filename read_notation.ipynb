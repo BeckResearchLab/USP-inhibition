{
 "cells": [
  {
   "cell_type": "code",
   "execution_count": 1,
   "metadata": {
    "collapsed": true
   },
   "outputs": [],
   "source": [
    "import pandas as pd\n",
    "pd.set_option('display.expand_frame_repr', False)"
   ]
  },
  {
   "cell_type": "code",
   "execution_count": 2,
   "metadata": {
    "collapsed": false
   },
   "outputs": [
    {
     "name": "stdout",
     "output_type": "stream",
     "text": [
      "392719\n"
     ]
    }
   ],
   "source": [
    "# To find the number of substances tested\n",
    "with open('chemical_notation_data/substances_smiles.txt', 'r') as f:\n",
    "    data = f.readlines()\n",
    "    i = 1\n",
    "    for line in data:\n",
    "        words = line.split()\n",
    "        i += 1\n",
    "    print i \n",
    "\n",
    "# Expected: 392719"
   ]
  },
  {
   "cell_type": "code",
   "execution_count": 3,
   "metadata": {
    "collapsed": false
   },
   "outputs": [
    {
     "name": "stdout",
     "output_type": "stream",
     "text": [
      "389561\n"
     ]
    }
   ],
   "source": [
    "# To find the number of compounds tested\n",
    "with open('chemical_notation_data/compounds_smiles.txt', 'r') as f:\n",
    "    data = f.readlines()\n",
    "    i = 1\n",
    "    for line in data:\n",
    "        words = line.split()\n",
    "        i += 1\n",
    "    print i \n",
    "\n",
    "# Expected: 389561"
   ]
  },
  {
   "cell_type": "code",
   "execution_count": 4,
   "metadata": {
    "collapsed": false
   },
   "outputs": [],
   "source": [
    "def create_dict(filename, mol):\n",
    "    \"\"\"\n",
    "    Returns dictionary of sample ID and molecular notation\n",
    "    \n",
    "    Inputs: filename, mol\n",
    "    filename - path to file containing molecular notation indexed by sample ID\n",
    "    mol - type of molecular notation\n",
    "    Input types: str, str\n",
    "    \n",
    "    Outputs: dictionary of molecular notation indexed by sample ID\n",
    "    Output types: Python dictionary\n",
    "    \"\"\"\n",
    "    with open(filename, 'r') as f:\n",
    "        # Reads the file line by line\n",
    "        data = f.readlines()\n",
    "        # Null dictionary\n",
    "        df = (dict([]))\n",
    "        for line in data[:5]:\n",
    "            # Splits the line into it's key and molecular string  \n",
    "            words = line.split()\n",
    "            if mol == 'smiles':\n",
    "                z = (dict([(int(words[0]), [words[1]])]))\n",
    "            elif mol == 'inchi':\n",
    "                # This removes the 'InChI=' prefix to the InChI string\n",
    "                z = (dict([(int(words[0]), [words[1][6:]])]))\n",
    "            else:\n",
    "                print 'Invalid molecular notation. Choose from smiles or inchi.'\n",
    "            # Appending dictionary            \n",
    "            df.update(z)\n",
    "        return df"
   ]
  },
  {
   "cell_type": "code",
   "execution_count": 5,
   "metadata": {
    "collapsed": false
   },
   "outputs": [],
   "source": [
    "# The SMILES and InChI logs of the same material have identical keys \n",
    "# Creating and joining the SMILES and InChI dictionaries along the same index\n",
    "dict_substances = {key: value + create_dict('chemical_notation_data/substances_inchi.txt', 'inchi')[key] for key, value in \n",
    "                 create_dict('chemical_notation_data/substances_smiles.txt', 'smiles').iteritems()}\n",
    "dict_substances_active = {key: value + create_dict('chemical_notation_data/substances_active_inchi.txt', 'inchi')[key] for key, value in \n",
    "                        create_dict('chemical_notation_data/substances_active_smiles.txt', 'smiles').iteritems()}\n",
    "\n",
    "dict_compounds = {key: value + create_dict('chemical_notation_data/compounds_inchi.txt', 'inchi')[key] for key, value in \n",
    "                create_dict('chemical_notation_data/compounds_smiles.txt','smiles').iteritems()}\n",
    "dict_compounds_active = {key: value + create_dict('chemical_notation_data/compounds_active_inchi.txt', 'inchi')[key] for key, value in \n",
    "                       create_dict('chemical_notation_data/compounds_active_smiles.txt', 'smiles').iteritems()}"
   ]
  },
  {
   "cell_type": "code",
   "execution_count": 6,
   "metadata": {
    "collapsed": true
   },
   "outputs": [],
   "source": [
    "def create_dataframe(filename, mol):\n",
    "    \"\"\"\n",
    "    Returns Pandas dataframe of sample ID and molecular notation\n",
    "    \n",
    "    Inputs: filename, mol\n",
    "    filename - path to file containing molecular notation indexed by sample ID\n",
    "    mol - type of molecular notation\n",
    "    Input types: str, str\n",
    "    \n",
    "    Outputs: dataframe of molecular notation indexed by sample ID\n",
    "    Output types: Pandas DataFrame\n",
    "    \"\"\"\n",
    "    with open(filename, 'r') as f:\n",
    "        # Reads the file line by line\n",
    "        data = f.readlines()\n",
    "        # Null dataframe\n",
    "        df = []\n",
    "        for line in data[:5]:\n",
    "            # Splits the line into it's key and molecular string  \n",
    "            words = line.split()\n",
    "            if mol == 'smiles':\n",
    "                z = [int(words[0]), words[1]]\n",
    "            elif mol == 'inchi':\n",
    "                # This removes the 'InChI=' prefix to the InChI string\n",
    "                z = [int(words[0]), words[1][6:]]\n",
    "            else:\n",
    "                print 'Invalid molecular notation. Choose from smiles or inchi.'\n",
    "            # Appending dictionary            \n",
    "            df.append(z)\n",
    "        df = pd.DataFrame(df)\n",
    "        df.columns = ['ID', mol.upper()]\n",
    "        df = df.set_index('ID')\n",
    "        return df"
   ]
  },
  {
   "cell_type": "code",
   "execution_count": 7,
   "metadata": {
    "collapsed": false
   },
   "outputs": [],
   "source": [
    "# The SMILES and InChI logs of the same material have identical indices \n",
    "# Creating and joining the SMILES and InChI dataframes along the same index\n",
    "\n",
    "df_substances = create_dataframe('chemical_notation_data/substances_smiles.txt', 'smiles').join(\n",
    "    create_dataframe('chemical_notation_data/substances_inchi.txt', 'inchi'))\n",
    "df_substances_active = create_dataframe('chemical_notation_data/substances_active_smiles.txt', 'smiles').join(\n",
    "    create_dataframe('chemical_notation_data/substances_active_inchi.txt', 'inchi'))\n",
    "\n",
    "df_compounds = create_dataframe('chemical_notation_data/compounds_smiles.txt', 'smiles').join(\n",
    "    create_dataframe('chemical_notation_data/compounds_inchi.txt','inchi'))\n",
    "df_compounds_active = create_dataframe('chemical_notation_data/compounds_active_smiles.txt', 'smiles').join(\n",
    "    create_dataframe('chemical_notation_data/compounds_active_inchi.txt', 'inchi'))"
   ]
  },
  {
   "cell_type": "code",
   "execution_count": null,
   "metadata": {
    "collapsed": true
   },
   "outputs": [],
   "source": []
  }
 ],
 "metadata": {
  "kernelspec": {
   "display_name": "Python 2",
   "language": "python",
   "name": "python2"
  },
  "language_info": {
   "codemirror_mode": {
    "name": "ipython",
    "version": 2
   },
   "file_extension": ".py",
   "mimetype": "text/x-python",
   "name": "python",
   "nbconvert_exporter": "python",
   "pygments_lexer": "ipython2",
   "version": "2.7.11"
  }
 },
 "nbformat": 4,
 "nbformat_minor": 0
}
